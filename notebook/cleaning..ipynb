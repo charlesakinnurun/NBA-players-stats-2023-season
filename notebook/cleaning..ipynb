{
 "cells": [
  {
   "cell_type": "markdown",
   "id": "ac8bc266",
   "metadata": {},
   "source": [
    "Data Preprocessing"
   ]
  },
  {
   "cell_type": "markdown",
   "id": "5c168122",
   "metadata": {},
   "source": [
    "Import the neccessary libraries"
   ]
  },
  {
   "cell_type": "code",
   "execution_count": 50,
   "id": "82e67466",
   "metadata": {},
   "outputs": [],
   "source": [
    "import pandas as pd"
   ]
  },
  {
   "cell_type": "markdown",
   "id": "305bdb8d",
   "metadata": {},
   "source": [
    "Load the dataset"
   ]
  },
  {
   "cell_type": "code",
   "execution_count": 51,
   "id": "44b3ccf5",
   "metadata": {},
   "outputs": [],
   "source": [
    "df = pd.read_csv(\"nba.csv\")"
   ]
  },
  {
   "cell_type": "markdown",
   "id": "053193b7",
   "metadata": {},
   "source": [
    "Data Inspection"
   ]
  },
  {
   "cell_type": "code",
   "execution_count": 52,
   "id": "31225f5a",
   "metadata": {},
   "outputs": [
    {
     "name": "stdout",
     "output_type": "stream",
     "text": [
      "                     PName POS Team  Age  GP   W   L     Min   PTS  FGM   FGA   FG%  3PM  3PA   3P%  FTM  FTA   FT%  OREB  DREB  REB  AST  TOV  STL  BLK   PF    FP  DD2  TD3  +/-\n",
      "0             Jayson Tatum  SF  BOS   25  74  52  22  2732.2  2225  727  1559  46.6  240  686  35.0  531  622  85.4    78   571  649  342  213   78   51  160  3691   31    1  470\n",
      "1              Joel Embiid   C  PHI   29  66  43  23  2284.1  2183  728  1328  54.8   66  200  33.0  661  771  85.7   113   557  670  274  226   66  112  205  3706   39    1  424\n",
      "2              Luka Doncic  PG  DAL   24  66  33  33  2390.5  2138  719  1449  49.6  185  541  34.2  515  694  74.2    54   515  569  529  236   90   33  166  3747   36   10  128\n",
      "3  Shai Gilgeous-Alexander  PG  OKC   24  68  33  35  2416.0  2135  704  1381  51.0   58  168  34.5  669  739  90.5    59   270  329  371  192  112   65  192  3425    3    0  149\n",
      "4    Giannis Antetokounmpo  PF  MIL   28  63  47  16  2023.6  1959  707  1278  55.3   47  171  27.5  498  772  64.5   137   605  742  359  246   52   51  197  3451   46    6  341\n",
      "<class 'pandas.core.frame.DataFrame'>\n",
      "RangeIndex: 539 entries, 0 to 538\n",
      "Data columns (total 30 columns):\n",
      " #   Column  Non-Null Count  Dtype  \n",
      "---  ------  --------------  -----  \n",
      " 0   PName   539 non-null    object \n",
      " 1   POS     534 non-null    object \n",
      " 2   Team    539 non-null    object \n",
      " 3   Age     539 non-null    int64  \n",
      " 4   GP      539 non-null    int64  \n",
      " 5   W       539 non-null    int64  \n",
      " 6   L       539 non-null    int64  \n",
      " 7   Min     539 non-null    float64\n",
      " 8   PTS     539 non-null    int64  \n",
      " 9   FGM     539 non-null    int64  \n",
      " 10  FGA     539 non-null    int64  \n",
      " 11  FG%     539 non-null    float64\n",
      " 12  3PM     539 non-null    int64  \n",
      " 13  3PA     539 non-null    int64  \n",
      " 14  3P%     539 non-null    float64\n",
      " 15  FTM     539 non-null    int64  \n",
      " 16  FTA     539 non-null    int64  \n",
      " 17  FT%     539 non-null    float64\n",
      " 18  OREB    539 non-null    int64  \n",
      " 19  DREB    539 non-null    int64  \n",
      " 20  REB     539 non-null    int64  \n",
      " 21  AST     539 non-null    int64  \n",
      " 22  TOV     539 non-null    int64  \n",
      " 23  STL     539 non-null    int64  \n",
      " 24  BLK     539 non-null    int64  \n",
      " 25  PF      539 non-null    int64  \n",
      " 26  FP      539 non-null    int64  \n",
      " 27  DD2     539 non-null    int64  \n",
      " 28  TD3     539 non-null    int64  \n",
      " 29  +/-     539 non-null    int64  \n",
      "dtypes: float64(4), int64(23), object(3)\n",
      "memory usage: 126.5+ KB\n",
      "None\n"
     ]
    }
   ],
   "source": [
    "print(df.head().to_string())\n",
    "print(df.info())"
   ]
  },
  {
   "cell_type": "markdown",
   "id": "979a35d7",
   "metadata": {},
   "source": [
    "Check for missing values"
   ]
  },
  {
   "cell_type": "code",
   "execution_count": 53,
   "id": "7ea91d39",
   "metadata": {},
   "outputs": [
    {
     "name": "stdout",
     "output_type": "stream",
     "text": [
      "PName    0\n",
      "POS      5\n",
      "Team     0\n",
      "Age      0\n",
      "GP       0\n",
      "W        0\n",
      "L        0\n",
      "Min      0\n",
      "PTS      0\n",
      "FGM      0\n",
      "FGA      0\n",
      "FG%      0\n",
      "3PM      0\n",
      "3PA      0\n",
      "3P%      0\n",
      "FTM      0\n",
      "FTA      0\n",
      "FT%      0\n",
      "OREB     0\n",
      "DREB     0\n",
      "REB      0\n",
      "AST      0\n",
      "TOV      0\n",
      "STL      0\n",
      "BLK      0\n",
      "PF       0\n",
      "FP       0\n",
      "DD2      0\n",
      "TD3      0\n",
      "+/-      0\n",
      "dtype: int64\n"
     ]
    }
   ],
   "source": [
    "df_missing = df.isnull().sum()\n",
    "print(df_missing)"
   ]
  },
  {
   "cell_type": "markdown",
   "id": "cc42869f",
   "metadata": {},
   "source": [
    "Drop any rows with any missing values"
   ]
  },
  {
   "cell_type": "code",
   "execution_count": 54,
   "id": "5b36dc6f",
   "metadata": {},
   "outputs": [],
   "source": [
    "df = df.dropna()"
   ]
  },
  {
   "cell_type": "markdown",
   "id": "546ad3ec",
   "metadata": {},
   "source": [
    "Rename the column for Clarity and Consistency"
   ]
  },
  {
   "cell_type": "code",
   "execution_count": 55,
   "id": "10f540a5",
   "metadata": {},
   "outputs": [],
   "source": [
    "df.rename(columns={\n",
    "    \"PName\":\"player\",\n",
    "    \"POS\":\"position\",\n",
    "    \"Team\":\"team\",\n",
    "    \"Age\":\"age\",\n",
    "    \"GP\":\"gp\",\n",
    "    \"W\":\"won\",\n",
    "    \"L\":\"lost\",\n",
    "    \"Min\":\"minutes\",\n",
    "    \"PTS\":\"points\",\n",
    "    \"FGM\":\"fgm\",\n",
    "    \"FGA\":\"fga\",\n",
    "    \"FG%\":\"fg%\",\n",
    "    \"3PM\":\"3pm\",\n",
    "    \"3PA\":\"3pa\",\n",
    "    \"3P%\":\"3p%\",\n",
    "    \"FTM\":\"ftm\",\n",
    "    \"FTA\":\"fta\",\n",
    "    \"FT%\":\"ft%\",\n",
    "    \"OREB\":\"oreb\",\n",
    "    \"DREB\":\"dreb\",\n",
    "    \"REB\":\"reb\",\n",
    "    \"AST\":\"ast\",\n",
    "    \"TOV\":\"tov\",\n",
    "    \"STL\":\"stl\",\n",
    "    \"BLK\":\"blk\",\n",
    "    \"PF\":\"pf\",\n",
    "    \"FP\":\"fp\",\n",
    "    \"DD2\":\"dd2\",\n",
    "    \"TD3\":\"td3\",\n",
    "    \"+/-\":\"+/-\"\n",
    "},inplace=True)"
   ]
  },
  {
   "cell_type": "markdown",
   "id": "d451cf14",
   "metadata": {},
   "source": [
    "Preview the data"
   ]
  },
  {
   "cell_type": "code",
   "execution_count": 56,
   "id": "f3f3baf0",
   "metadata": {},
   "outputs": [
    {
     "name": "stdout",
     "output_type": "stream",
     "text": [
      "                    player position team  age  gp  won  lost  minutes  points  fgm   fga   fg%  3pm  3pa   3p%  ftm  fta   ft%  oreb  dreb  reb  ast  tov  stl  blk   pf    fp  dd2  td3  +/-\n",
      "0             Jayson Tatum       SF  BOS   25  74   52    22   2732.2    2225  727  1559  46.6  240  686  35.0  531  622  85.4    78   571  649  342  213   78   51  160  3691   31    1  470\n",
      "1              Joel Embiid        C  PHI   29  66   43    23   2284.1    2183  728  1328  54.8   66  200  33.0  661  771  85.7   113   557  670  274  226   66  112  205  3706   39    1  424\n",
      "2              Luka Doncic       PG  DAL   24  66   33    33   2390.5    2138  719  1449  49.6  185  541  34.2  515  694  74.2    54   515  569  529  236   90   33  166  3747   36   10  128\n",
      "3  Shai Gilgeous-Alexander       PG  OKC   24  68   33    35   2416.0    2135  704  1381  51.0   58  168  34.5  669  739  90.5    59   270  329  371  192  112   65  192  3425    3    0  149\n",
      "4    Giannis Antetokounmpo       PF  MIL   28  63   47    16   2023.6    1959  707  1278  55.3   47  171  27.5  498  772  64.5   137   605  742  359  246   52   51  197  3451   46    6  341\n",
      "<class 'pandas.core.frame.DataFrame'>\n",
      "Index: 534 entries, 0 to 533\n",
      "Data columns (total 30 columns):\n",
      " #   Column    Non-Null Count  Dtype  \n",
      "---  ------    --------------  -----  \n",
      " 0   player    534 non-null    object \n",
      " 1   position  534 non-null    object \n",
      " 2   team      534 non-null    object \n",
      " 3   age       534 non-null    int64  \n",
      " 4   gp        534 non-null    int64  \n",
      " 5   won       534 non-null    int64  \n",
      " 6   lost      534 non-null    int64  \n",
      " 7   minutes   534 non-null    float64\n",
      " 8   points    534 non-null    int64  \n",
      " 9   fgm       534 non-null    int64  \n",
      " 10  fga       534 non-null    int64  \n",
      " 11  fg%       534 non-null    float64\n",
      " 12  3pm       534 non-null    int64  \n",
      " 13  3pa       534 non-null    int64  \n",
      " 14  3p%       534 non-null    float64\n",
      " 15  ftm       534 non-null    int64  \n",
      " 16  fta       534 non-null    int64  \n",
      " 17  ft%       534 non-null    float64\n",
      " 18  oreb      534 non-null    int64  \n",
      " 19  dreb      534 non-null    int64  \n",
      " 20  reb       534 non-null    int64  \n",
      " 21  ast       534 non-null    int64  \n",
      " 22  tov       534 non-null    int64  \n",
      " 23  stl       534 non-null    int64  \n",
      " 24  blk       534 non-null    int64  \n",
      " 25  pf        534 non-null    int64  \n",
      " 26  fp        534 non-null    int64  \n",
      " 27  dd2       534 non-null    int64  \n",
      " 28  td3       534 non-null    int64  \n",
      " 29  +/-       534 non-null    int64  \n",
      "dtypes: float64(4), int64(23), object(3)\n",
      "memory usage: 129.3+ KB\n",
      "None\n"
     ]
    }
   ],
   "source": [
    "print(df.head().to_string())\n",
    "print(df.info())"
   ]
  },
  {
   "cell_type": "markdown",
   "id": "a7c28f35",
   "metadata": {},
   "source": [
    "Save the cleaned data"
   ]
  },
  {
   "cell_type": "code",
   "execution_count": 57,
   "id": "d80e4172",
   "metadata": {},
   "outputs": [
    {
     "name": "stdout",
     "output_type": "stream",
     "text": [
      "Saved Successfully\n"
     ]
    }
   ],
   "source": [
    "df.to_csv(\"nba_cleaned.csv\",index=False)\n",
    "print(\"Saved Successfully\")"
   ]
  }
 ],
 "metadata": {
  "kernelspec": {
   "display_name": "Python 3",
   "language": "python",
   "name": "python3"
  },
  "language_info": {
   "codemirror_mode": {
    "name": "ipython",
    "version": 3
   },
   "file_extension": ".py",
   "mimetype": "text/x-python",
   "name": "python",
   "nbconvert_exporter": "python",
   "pygments_lexer": "ipython3",
   "version": "3.13.3"
  }
 },
 "nbformat": 4,
 "nbformat_minor": 5
}
